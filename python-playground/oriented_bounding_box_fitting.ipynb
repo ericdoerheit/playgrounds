{
 "cells": [
  {
   "cell_type": "code",
   "execution_count": 1,
   "metadata": {
    "collapsed": false,
    "deletable": true,
    "editable": true
   },
   "outputs": [],
   "source": [
    "import itertools\n",
    "import numpy as np\n",
    "from mpl_toolkits.mplot3d import Axes3D\n",
    "from matplotlib import pyplot as plt\n",
    "%matplotlib inline"
   ]
  },
  {
   "cell_type": "code",
   "execution_count": 2,
   "metadata": {
    "collapsed": false,
    "deletable": true,
    "editable": true
   },
   "outputs": [],
   "source": [
    "def oriented_bounding_box(points):\n",
    "    p_mean = points.mean(axis=0)\n",
    "    points -= p_mean\n",
    "    cov = np.cov(points.T)\n",
    "    w, v = np.linalg.eig(cov)\n",
    "    \n",
    "    ax_min_max = []\n",
    "    for i in range(points.shape[1]):        \n",
    "        vi = v[:, i]\n",
    "        pi = points.dot(vi)\n",
    "        ax_min_max.append([pi.min(), pi.max()])\n",
    "    \n",
    "    vertices = []\n",
    "    for vertex in itertools.product(*ax_min_max):\n",
    "        vertices.append(vertex)\n",
    "    \n",
    "    vertices = np.array(vertices)\n",
    "    vertices = vertices.T\n",
    "    vertices = v.dot(vertices)\n",
    "    vertices += p_mean[:,np.newaxis]\n",
    "    \n",
    "    points += p_mean\n",
    "    return vertices.T"
   ]
  },
  {
   "cell_type": "code",
   "execution_count": 3,
   "metadata": {
    "collapsed": false,
    "deletable": true,
    "editable": true
   },
   "outputs": [],
   "source": [
    "def oriented_bounding_box_2d_bf(points):\n",
    "    \n",
    "    area = float('inf')\n",
    "    \n",
    "    #e_x, e_y, px_min, px_max, py_min, py_max\n",
    "    for theta in np.arange(0, 0.5*np.pi, np.pi/180):\n",
    "        new_e_x = np.array([np.cos(theta), np.sin(theta)])\n",
    "        new_e_y = np.array([-np.sin(theta), np.cos(theta)])\n",
    "        \n",
    "        px = points.dot(new_e_x)\n",
    "        py = points.dot(new_e_y)\n",
    "        \n",
    "        new_px_min = px.min()\n",
    "        new_px_max = px.max()\n",
    "        new_py_min = py.min()\n",
    "        new_py_max = py.max()\n",
    "        new_area = abs(new_px_max - new_px_min) * abs(new_py_max - new_py_min)\n",
    "        \n",
    "        if new_area < area:\n",
    "            e_x = new_e_x\n",
    "            e_y = new_e_y\n",
    "            px_min = new_px_min\n",
    "            px_max = new_px_max\n",
    "            py_min = new_py_min\n",
    "            py_max = new_py_max\n",
    "            area = new_area\n",
    "    \n",
    "    ax_min_max = [[px_min, px_max], [py_min, py_max]]\n",
    "    \n",
    "    vertices = []\n",
    "    for vertex in itertools.product(*ax_min_max):\n",
    "        vertices.append(vertex)\n",
    "    \n",
    "    vertices = np.array(vertices)\n",
    "    vertices = vertices.T\n",
    "    vertices = np.array([e_x, e_y]).T.dot(vertices)\n",
    "    \n",
    "    return vertices.T"
   ]
  },
  {
   "cell_type": "code",
   "execution_count": 27,
   "metadata": {
    "collapsed": false,
    "deletable": true,
    "editable": true
   },
   "outputs": [
    {
     "data": {
      "text/plain": [
       "<matplotlib.collections.PathCollection at 0x257ef34b358>"
      ]
     },
     "execution_count": 27,
     "metadata": {},
     "output_type": "execute_result"
    },
    {
     "data": {
      "image/png": "[encoded data removed]",
      "text/plain": [
       "<matplotlib.figure.Figure at 0x257ed9d1b70>"
      ]
     },
     "metadata": {},
     "output_type": "display_data"
    }
   ],
   "source": [
    "points = np.random.multivariate_normal(np.array([-2,1]), np.diag([0.1,0.4]), 200)\n",
    "d1 = np.random.uniform(0.0, 1.0, size=(500, 2))\n",
    "d1[:,0] *= 4\n",
    "d2 = np.random.uniform(0.0, 1.0, size=(500, 2))\n",
    "d2[:,1] *= 2\n",
    "points = np.concatenate((points, d1, d2))\n",
    "\n",
    "p1, p2, p3, p4 = oriented_bounding_box_2d_bf(points)\n",
    "\n",
    "plt.scatter(points[:,0], points[:,1])\n",
    "#plt.xlim(-0.5, 1.5)\n",
    "#plt.ylim(-0.5, 1.5)\n",
    "plt.axis('equal')\n",
    "plt.grid()\n",
    "\n",
    "plt.scatter(p1[0], p1[1], c='yellow')\n",
    "plt.scatter(p2[0], p2[1], c='yellow')\n",
    "plt.scatter(p3[0], p3[1], c='yellow')\n",
    "plt.scatter(p4[0], p4[1], c='yellow')"
   ]
  },
  {
   "cell_type": "code",
   "execution_count": 5,
   "metadata": {
    "collapsed": false,
    "deletable": true,
    "editable": true
   },
   "outputs": [
    {
     "ename": "ValueError",
     "evalue": "too many values to unpack (expected 2)",
     "output_type": "error",
     "traceback": [
      "\u001b[1;31m---------------------------------------------------------------------------\u001b[0m",
      "\u001b[1;31mValueError\u001b[0m                                Traceback (most recent call last)",
      "\u001b[1;32m<ipython-input-5-47f52f8e3689>\u001b[0m in \u001b[0;36m<module>\u001b[1;34m()\u001b[0m\n\u001b[0;32m      2\u001b[0m \u001b[0mpoints\u001b[0m \u001b[1;33m=\u001b[0m \u001b[0mnp\u001b[0m\u001b[1;33m.\u001b[0m\u001b[0mrandom\u001b[0m\u001b[1;33m.\u001b[0m\u001b[0muniform\u001b[0m\u001b[1;33m(\u001b[0m\u001b[0msize\u001b[0m\u001b[1;33m=\u001b[0m\u001b[1;33m(\u001b[0m\u001b[1;36m20\u001b[0m\u001b[1;33m,\u001b[0m \u001b[1;36m3\u001b[0m\u001b[1;33m)\u001b[0m\u001b[1;33m)\u001b[0m\u001b[1;33m\u001b[0m\u001b[0m\n\u001b[0;32m      3\u001b[0m \u001b[1;33m\u001b[0m\u001b[0m\n\u001b[1;32m----> 4\u001b[1;33m \u001b[0mp_min\u001b[0m\u001b[1;33m,\u001b[0m \u001b[0mp_max\u001b[0m \u001b[1;33m=\u001b[0m \u001b[0moriented_bounding_box\u001b[0m\u001b[1;33m(\u001b[0m\u001b[0mpoints\u001b[0m\u001b[1;33m)\u001b[0m\u001b[1;33m\u001b[0m\u001b[0m\n\u001b[0m\u001b[0;32m      5\u001b[0m \u001b[1;33m\u001b[0m\u001b[0m\n\u001b[0;32m      6\u001b[0m \u001b[0mfig\u001b[0m \u001b[1;33m=\u001b[0m \u001b[0mplt\u001b[0m\u001b[1;33m.\u001b[0m\u001b[0mfigure\u001b[0m\u001b[1;33m(\u001b[0m\u001b[0mfigsize\u001b[0m\u001b[1;33m=\u001b[0m\u001b[1;33m(\u001b[0m\u001b[1;36m12\u001b[0m\u001b[1;33m,\u001b[0m\u001b[1;36m8\u001b[0m\u001b[1;33m)\u001b[0m\u001b[1;33m)\u001b[0m\u001b[1;33m\u001b[0m\u001b[0m\n",
      "\u001b[1;31mValueError\u001b[0m: too many values to unpack (expected 2)"
     ]
    }
   ],
   "source": [
    "points = np.random.multivariate_normal(np.zeros(3), np.diag([100,50,10]), 20)\n",
    "points = np.random.uniform(size=(20, 3))\n",
    "\n",
    "p_min, p_max = oriented_bounding_box(points)\n",
    "\n",
    "fig = plt.figure(figsize=(12,8))\n",
    "ax = fig.add_subplot(111, projection='3d')\n",
    "ax.scatter(points[:,0], points[:,1], points[:,2], alpha=0.1)\n",
    "\n",
    "lines = []\n",
    "\n",
    "diff = p_max - p_min\n",
    "dx = diff[0]\n",
    "dy = diff[1]\n",
    "dz = diff[2]\n",
    "\n",
    "px = p_min[0]\n",
    "py = p_min[1]\n",
    "pz = p_min[2]\n",
    "\n",
    "lines.append(np.array([[px,py,pz], [px+dx,py,pz]]))\n",
    "lines.append(np.array([[px,py,pz], [px,py+dy,pz]]))\n",
    "lines.append(np.array([[px,py,pz], [px,py,pz+dz]]))\n",
    "\n",
    "lines.append(np.array([[px+dx,py,pz+dz], [px+dx,py,pz]]))\n",
    "lines.append(np.array([[px+dx,py,pz+dz], [px,py,pz+dz]]))\n",
    "lines.append(np.array([[px+dx,py,pz+dz], [px+dx,py+dy,pz+dz]]))\n",
    "\n",
    "lines.append(np.array([[px,py+dy,pz+dz], [px,py,pz+dz]]))\n",
    "lines.append(np.array([[px,py+dy,pz+dz], [px,py+dy,pz]]))\n",
    "lines.append(np.array([[px,py+dy,pz+dz], [px+dx,py+dy,pz+dz]]))\n",
    "\n",
    "lines.append(np.array([[px+dx,py+dy,pz], [px,py+dy,pz]]))\n",
    "lines.append(np.array([[px+dx,py+dy,pz], [px+dx,py,pz]]))\n",
    "lines.append(np.array([[px+dx,py+dy,pz], [px+dx,py+dy,pz+dz]]))\n",
    "\n",
    "for l in lines:\n",
    "    ax.plot([l[0][0], l[1][0]],\n",
    "            [l[0][1], l[1][1]],\n",
    "            [l[0][2], l[1][2]])\n",
    "    \n",
    "ax.scatter(p_min[0], p_min[1], p_min[2])\n",
    "ax.scatter(p_max[0], p_max[1], p_max[2])\n",
    "#ax.plot([p_min[0], p_max[0]], [p_min[1], p_max[1]], [p_min[2], p_max[2]])"
   ]
  },
  {
   "cell_type": "code",
   "execution_count": null,
   "metadata": {
    "collapsed": true,
    "deletable": true,
    "editable": true
   },
   "outputs": [],
   "source": []
  }
 ],
 "metadata": {
  "kernelspec": {
   "display_name": "Python 3",
   "language": "python",
   "name": "python3"
  },
  "language_info": {
   "codemirror_mode": {
    "name": "ipython",
    "version": 3
   },
   "file_extension": ".py",
   "mimetype": "text/x-python",
   "name": "python",
   "nbconvert_exporter": "python",
   "pygments_lexer": "ipython3",
   "version": "3.5.3"
  }
 },
 "nbformat": 4,
 "nbformat_minor": 2
}
